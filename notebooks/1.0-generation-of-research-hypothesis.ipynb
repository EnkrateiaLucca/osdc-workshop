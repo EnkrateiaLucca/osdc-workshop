{
 "cells": [
  {
   "cell_type": "markdown",
   "metadata": {},
   "source": [
    "# Patterns for Augmenting Research Workflows\n",
    "\n",
    "Inspiration:\n",
    "\n",
    "![](./assets-resources/elicit.png)"
   ]
  },
  {
   "cell_type": "markdown",
   "metadata": {},
   "source": [
    "I love this table structure for organizing the results of LLMs across multiple calls."
   ]
  },
  {
   "cell_type": "markdown",
   "metadata": {},
   "source": [
    "\n",
    "# 1. Hypothesis Generation"
   ]
  },
  {
   "cell_type": "code",
   "execution_count": 1,
   "metadata": {},
   "outputs": [],
   "source": [
    "# These examples were taken from this paper: https://www.semanticscholar.org/reader/713b604fb9cdd6631074cbd6bf36db029031992e\n",
    "\n",
    "sys_msg = \"\"\"\n",
    "Instruction: You are a researcher. You can come up with new hypotheses\n",
    "based on your existing knowledge. Hypotheses are given against the\n",
    "following background. You should be as detailed as possible.\n",
    "\"\"\"\n",
    "\n",
    "prompt = \"\"\"\n",
    "Background knowledge: (1) Esophageal cancer mainly includes\n",
    "squamous cell carcinoma and adenocarcinoma, with different risk factors\n",
    "and incidence rates. (2) Metformin has been shown to reduce the risk of\n",
    "several cancers in patients with T2DM. (3) The results of previous studies\n",
    "on the relationship between metformin use and esophageal cancer risk are\n",
    "conflicting\n",
    "\"\"\""
   ]
  },
  {
   "cell_type": "markdown",
   "metadata": {},
   "source": [
    "# References\n",
    "- [Large Language Models are Zero Shot Hypothesis\n",
    "Proposers](https://www.semanticscholar.org/paper/Large-Language-Models-are-Zero-Shot-Hypothesis-Qi-Zhang/713b604fb9cdd6631074cbd6bf36db029031992e)\n",
    "- [LLMs + causal graphs for Psychological Hypothesis Generation](https://www.semanticscholar.org/reader/62889b18b31446b01f153507bbfa599e65f910ad)\n",
    "- "
   ]
  },
  {
   "cell_type": "markdown",
   "metadata": {},
   "source": []
  }
 ],
 "metadata": {
  "kernelspec": {
   "display_name": "augment-research-workflows",
   "language": "python",
   "name": "augment-research-workflows"
  },
  "language_info": {
   "codemirror_mode": {
    "name": "ipython",
    "version": 3
   },
   "file_extension": ".py",
   "mimetype": "text/x-python",
   "name": "python",
   "nbconvert_exporter": "python",
   "pygments_lexer": "ipython3",
   "version": "3.11.9"
  }
 },
 "nbformat": 4,
 "nbformat_minor": 2
}
