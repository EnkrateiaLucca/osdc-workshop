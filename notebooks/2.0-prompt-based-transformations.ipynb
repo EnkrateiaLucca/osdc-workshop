{
 "cells": [
  {
   "cell_type": "code",
   "execution_count": 1,
   "metadata": {},
   "outputs": [],
   "source": [
    "from openai import OpenAI\n",
    "\n",
    "client = OpenAI()\n",
    "\n",
    "SYS_MSG_REWRITE = \"\"\"\n",
    "You are a helpful research assitant. Given a context document and a target section, \n",
    "rewrite it according to given instructions.\n",
    "\"\"\"\n",
    "\n",
    "def rewrite(context_document, section_to_rewrite, rewrite_instructions):\n",
    "    prompt_rewrite = f\"\"\"Given this document I am working on: \\n\\n\n",
    "    {context_document} \\n\\n, rewrite the text for this section: \\n\\n\n",
    "    {section_to_rewrite} \\n\\n\n",
    "    following these instructions: \\n\\n\n",
    "    {rewrite_instructions} \n",
    "    \"\"\"\n",
    "    response = client.chat.completions.create(\n",
    "        model=\"gpt-4o-mini\",\n",
    "        messages=[{\"role\": \"system\", \"content\": SYS_MSG_REWRITE},\n",
    "                  {\"role\": \"user\", \"content\": prompt_rewrite}]\n",
    "    )\n",
    "    \n",
    "    return response.choices[0].message.content"
   ]
  },
  {
   "cell_type": "code",
   "execution_count": 2,
   "metadata": {},
   "outputs": [
    {
     "data": {
      "text/markdown": [
       "# Large Language Models in Education: Opportunities and Challenges\n",
       "\n",
       "## Introduction\n",
       "\n",
       "Large Language Models (LLMs) have emerged as a revolutionary force in artificial intelligence, with far-reaching implications across various sectors. Education, a field ripe for innovation, stands to benefit significantly from the integration of LLMs. This report explores the potential applications, benefits, and challenges of incorporating LLMs into educational settings, from primary schools to higher education and lifelong learning platforms.\n",
       "\n",
       "## Development\n",
       "\n",
       "### Personalized Learning Experiences\n",
       "\n",
       "LLMs offer unprecedented opportunities for personalization in education. By analyzing a student's learning style, pace, and preferences, these models can tailor content delivery and difficulty levels to suit individual needs. For instance, an LLM-powered tutoring system could generate custom exercises, provide real-time feedback, and adapt its teaching methods based on the student's progress.\n",
       "\n",
       "Moreover, LLMs can simulate conversations on complex topics, allowing students to engage in Socratic dialogues or role-playing scenarios. This interactive approach fosters critical thinking and deeper understanding of subjects, from history and literature to science and mathematics.\n",
       "\n",
       "### Enhanced Accessibility and Inclusivity\n",
       "\n",
       "One of the most promising aspects of LLMs in education is their potential to break down barriers to learning. For students with disabilities, LLMs can provide real-time transcription, translation, and explanation of complex concepts in simpler terms. This technology can level the playing field, ensuring that all students have access to high-quality educational resources regardless of their physical location or learning challenges.\n",
       "\n",
       "Furthermore, LLMs can assist in creating multilingual educational content, making it easier for non-native speakers to access and understand materials in their preferred language. This global accessibility could revolutionize distance learning and international education programs.\n",
       "\n",
       "### Challenges and Ethical Considerations\n",
       "\n",
       "While the potential benefits of LLMs in education are significant, there are several challenges and ethical considerations that must be addressed:\n",
       "\n",
       "1. **Accuracy and Bias**: LLMs can sometimes produce inaccurate or biased information. In an educational context, this could lead to the spread of misinformation or reinforcement of harmful stereotypes. Rigorous fact-checking and bias detection mechanisms must be implemented.\n",
       "\n",
       "2. **Privacy Concerns**: The use of LLMs in education involves processing large amounts of student data. Ensuring the privacy and security of this information is crucial, especially when dealing with minors.\n",
       "\n",
       "3. **Overdependence**: There's a risk that students might become overly reliant on LLM-powered tools, potentially hindering the development of critical thinking and problem-solving skills. Educators must find a balance between leveraging technology and fostering independent thought.\n",
       "\n",
       "4. **Teacher's Role**: The integration of LLMs may require a shift in the role of educators. Teachers will need to adapt their skills to effectively incorporate these tools into their teaching methods and curricula.\n",
       "\n",
       "## Conclusion\n",
       "\n",
       "Large Language Models hold immense potential to transform education, offering personalized learning experiences, enhanced accessibility, and innovative teaching methods. However, their implementation must be approached thoughtfully, with careful consideration of the ethical implications and potential challenges.\n",
       "\n",
       "As we move forward, it is crucial to develop frameworks for the responsible use of LLMs in educational settings. This includes establishing guidelines for data privacy, implementing robust accuracy checks, and providing training for educators on how to effectively integrate these tools into their teaching practices.\n",
       "\n",
       "The future of education with LLMs is bright, but it requires a collaborative effort between technologists, educators, policymakers, and ethicists to ensure that these powerful tools are used to create more equitable, effective, and engaging learning experiences for all.\n",
       "\n",
       "## References\n",
       "\n",
       "1. Brown, T. B., et al. (2020). \"Language Models are Few-Shot Learners.\" arXiv preprint arXiv:2005.14165.\n",
       "\n",
       "2. Dockter, J. (2021). \"AI in Education: Promises and Challenges.\" Educational Technology Research and Development, 69(1), 1-4.\n",
       "\n",
       "3. Holmes, W., et al. (2019). \"Ethics of AI in Education: Towards a Community-Wide Framework.\" International Journal of Artificial Intelligence in Education, 29(4), 504-528.\n",
       "\n",
       "4. Luckin, R., & Cukurova, M. (2019). \"Designing Educational Technologies in the Age of AI: A Learning Sciences‐Driven Approach.\" British Journal of Educational Technology, 50(6), 2824-2838.\n",
       "\n",
       "5. Zawacki-Richter, O., et al. (2019). \"Systematic Review of Research on Artificial Intelligence Applications in Higher Education – Where Are the Educators?\" International Journal of Educational Technology in Higher Education, 16(1), 39."
      ],
      "text/plain": [
       "<IPython.core.display.Markdown object>"
      ]
     },
     "execution_count": 2,
     "metadata": {},
     "output_type": "execute_result"
    }
   ],
   "source": [
    "from IPython.display import Markdown\n",
    "\n",
    "with open(\"./example-report-for-ui-testing.md\", 'r') as f:\n",
    "    context_doc = f.read()\n",
    "\n",
    "Markdown(context_doc)"
   ]
  },
  {
   "cell_type": "code",
   "execution_count": 3,
   "metadata": {},
   "outputs": [
    {
     "data": {
      "text/markdown": [
       "### Challenges and Ethical Considerations\n",
       "\n",
       "Despite the significant benefits of LLMs in education, several challenges and ethical concerns must be addressed:\n",
       "\n",
       "1. **Accuracy and Bias**: LLMs may produce inaccurate or biased content, which can contribute to misinformation and reinforce negative stereotypes. Implementing strict fact-checking and bias detection protocols is essential.\n",
       "\n",
       "2. **Privacy Concerns**: The processing of large volumes of student data raises privacy and security issues, particularly when involving minors. Safeguarding this data is critical.\n",
       "\n",
       "3. **Overdependence**: There is a risk that students may rely too heavily on LLM tools, potentially stunting their critical thinking and problem-solving skills. Educators must ensure a balance between technology use and fostering independent thought.\n",
       "\n",
       "4. **Teacher's Role**: The adoption of LLMs requires educators to adapt their teaching methods and curricula to effectively integrate these tools into their instructional practices.\n",
       "\n",
       "Addressing these challenges thoughtfully is crucial for the responsible use of LLMs in education."
      ],
      "text/plain": [
       "<IPython.core.display.Markdown object>"
      ]
     },
     "execution_count": 3,
     "metadata": {},
     "output_type": "execute_result"
    }
   ],
   "source": [
    "section_to_rewrite = 'Dev - Challenges and Ethical Considerations'\n",
    "\n",
    "instructions = 'Rewrite this section to be more concise and to the point.'\n",
    "\n",
    "rewritten = rewrite(context_doc, section_to_rewrite, instructions)\n",
    "\n",
    "Markdown(rewritten)"
   ]
  },
  {
   "cell_type": "markdown",
   "metadata": {},
   "source": [
    "# Prompt to convert data into a table like structure"
   ]
  },
  {
   "cell_type": "code",
   "execution_count": 1,
   "metadata": {},
   "outputs": [],
   "source": [
    "SYS_MSG_MARKDOWN_TABLE_GENERATOR = \"\"\"\n",
    "You convert text into a markdown style tables following the given instructions from the user.\n",
    "\"\"\""
   ]
  },
  {
   "cell_type": "code",
   "execution_count": 2,
   "metadata": {},
   "outputs": [],
   "source": [
    "from openai import OpenAI\n",
    "client = OpenAI()\n",
    "\n",
    "def convert_to_markdown_table(prompt):\n",
    "    response = client.chat.completions.create(\n",
    "        model=\"gpt-4o-mini\",\n",
    "        messages=[{\"role\": \"system\", \"content\": SYS_MSG_MARKDOWN_TABLE_GENERATOR},\n",
    "                  {\"role\": \"user\", \"content\": prompt}]\n",
    "    )\n",
    "    \n",
    "    return response.choices[0].message.content\n",
    "\n",
    "example_text = \"\"\"\n",
    "\"According to a recent survey, the top 5 most popular programming languages among developers are:\n",
    "\n",
    "Python is the most popular language, used by 42.5% of respondents.\n",
    "Java is the second most popular language, used by 29.2% of respondents.\n",
    "JavaScript is the third most popular language, used by 24.1% of respondents.\n",
    "C++ is the fourth most popular language, used by 17.5% of respondents.\n",
    "C# is the fifth most popular language, used by 14.2% of respondents.\n",
    "The survey also found that the top 3 most popular frameworks among developers are:\n",
    "\n",
    "React is the most popular framework, used by 51.9% of respondents.\n",
    "Angular is the second most popular framework, used by 26.5% of respondents.\n",
    "Vue.js is the third most popular framework, used by 20.6% of respondents.\n",
    "In terms of database management systems, the survey found that:\n",
    "\n",
    "MySQL is the most popular database management system, used by 62.1% of respondents.\n",
    "PostgreSQL is the second most popular database management system, used by 21.9% of respondents.\n",
    "MongoDB is the third most popular database management system, used by 15.1% of respondents.\n",
    "The survey also found that the top 3 most popular operating systems among developers are:\n",
    "\n",
    "Windows is the most popular operating system, used by 55.6% of respondents.\n",
    "macOS is the second most popular operating system, used by 26.3% of respondents.\n",
    "Linux is the third most popular operating system, used by 18.1% of respondents.\"\n",
    "\"\"\"\n",
    "prompt = f'Convert this text into a markdown style table: \\n\\n {example_text} including as columns: Programming Language, Popularity, Framework, Popularity, Database Management System, Popularity, Operating System, Popularity.'\n",
    "output_markdown_style_table = convert_to_markdown_table(prompt)"
   ]
  },
  {
   "cell_type": "code",
   "execution_count": 4,
   "metadata": {},
   "outputs": [
    {
     "data": {
      "text/markdown": [
       "| Programming Language | Popularity | Framework       | Popularity | Database Management System | Popularity | Operating System | Popularity |\n",
       "|---------------------|------------|------------------|------------|---------------------------|------------|-----------------|------------|\n",
       "| Python              | 42.5%      | React            | 51.9%      | MySQL                     | 62.1%      | Windows         | 55.6%      |\n",
       "| Java                | 29.2%      | Angular          | 26.5%      | PostgreSQL                | 21.9%      | macOS           | 26.3%      |\n",
       "| JavaScript          | 24.1%      | Vue.js           | 20.6%      | MongoDB                   | 15.1%      | Linux           | 18.1%      |\n",
       "| C++                 | 17.5%      |                  |            |                           |            |                 |            |\n",
       "| C#                  | 14.2%      |                  |            |                           |            |                 |            |\n"
      ],
      "text/plain": [
       "<IPython.core.display.Markdown object>"
      ]
     },
     "execution_count": 4,
     "metadata": {},
     "output_type": "execute_result"
    }
   ],
   "source": [
    "from IPython.display import Markdown\n",
    "\n",
    "Markdown('''| Programming Language | Popularity | Framework       | Popularity | Database Management System | Popularity | Operating System | Popularity |\n",
    "|---------------------|------------|------------------|------------|---------------------------|------------|-----------------|------------|\n",
    "| Python              | 42.5%      | React            | 51.9%      | MySQL                     | 62.1%      | Windows         | 55.6%      |\n",
    "| Java                | 29.2%      | Angular          | 26.5%      | PostgreSQL                | 21.9%      | macOS           | 26.3%      |\n",
    "| JavaScript          | 24.1%      | Vue.js           | 20.6%      | MongoDB                   | 15.1%      | Linux           | 18.1%      |\n",
    "| C++                 | 17.5%      |                  |            |                           |            |                 |            |\n",
    "| C#                  | 14.2%      |                  |            |                           |            |                 |            |\n",
    "''')"
   ]
  }
 ],
 "metadata": {
  "kernelspec": {
   "display_name": "augment-research-workflows",
   "language": "python",
   "name": "augment-research-workflows"
  },
  "language_info": {
   "codemirror_mode": {
    "name": "ipython",
    "version": 3
   },
   "file_extension": ".py",
   "mimetype": "text/x-python",
   "name": "python",
   "nbconvert_exporter": "python",
   "pygments_lexer": "ipython3",
   "version": "3.11.9"
  }
 },
 "nbformat": 4,
 "nbformat_minor": 2
}
